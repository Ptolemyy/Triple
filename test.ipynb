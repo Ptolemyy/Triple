{
 "cells": [
  {
   "cell_type": "code",
   "execution_count": 1,
   "id": "45ad0e86",
   "metadata": {},
   "outputs": [
    {
     "name": "stdout",
     "output_type": "stream",
     "text": [
      "Total number of parameters in ResNet: 46051484\n"
     ]
    }
   ],
   "source": [
    "from train import ResNet\n",
    "\n",
    "resnet = ResNet()\n",
    "\n",
    "pytorch_total_params = sum(p.numel() for p in resnet.parameters())\n",
    "print(f\"Total number of parameters in ResNet: {pytorch_total_params}\")"
   ]
  },
  {
   "cell_type": "code",
   "execution_count": null,
   "id": "870f98e6",
   "metadata": {},
   "outputs": [
    {
     "ename": "ValueError",
     "evalue": "not enough values to unpack (expected 2, got 1)",
     "output_type": "error",
     "traceback": [
      "\u001b[31m---------------------------------------------------------------------------\u001b[39m",
      "\u001b[31mValueError\u001b[39m                                Traceback (most recent call last)",
      "\u001b[36mCell\u001b[39m\u001b[36m \u001b[39m\u001b[32mIn[3]\u001b[39m\u001b[32m, line 4\u001b[39m\n\u001b[32m      2\u001b[39m b = [\u001b[32m6\u001b[39m,\u001b[32m7\u001b[39m,\u001b[32m8\u001b[39m,\u001b[32m9\u001b[39m,\u001b[32m10\u001b[39m]\n\u001b[32m      3\u001b[39m c = (a,b)\n\u001b[32m----> \u001b[39m\u001b[32m4\u001b[39m \u001b[38;5;28;01mfor\u001b[39;00m i,j \u001b[38;5;129;01min\u001b[39;00m \u001b[38;5;28mzip\u001b[39m(c):\n\u001b[32m      5\u001b[39m     \u001b[38;5;28mprint\u001b[39m(i,j)\n",
      "\u001b[31mValueError\u001b[39m: not enough values to unpack (expected 2, got 1)"
     ]
    }
   ],
   "source": [
    "a = [1,2,3,4,5]\n",
    "b = [6,7,8,9,10]\n",
    "c = a,b\n",
    "for i,j in zip(c):\n",
    "    print(i,j)"
   ]
  },
  {
   "cell_type": "code",
   "execution_count": null,
   "id": "89dc6cae",
   "metadata": {},
   "outputs": [],
   "source": []
  },
  {
   "cell_type": "code",
   "execution_count": null,
   "id": "f49222e2",
   "metadata": {},
   "outputs": [
    {
     "data": {
      "text/plain": [
       "tensor([1., 1.])"
      ]
     },
     "execution_count": 2,
     "metadata": {},
     "output_type": "execute_result"
    }
   ],
   "source": [
    "import torch\n",
    "#torch.tensor([1,2,3,4,5]).to(torch.device(\"cuda:0\"))\n",
    "torch.ones(2)\n",
    "torch.append"
   ]
  },
  {
   "cell_type": "code",
   "execution_count": 23,
   "id": "e4fe90f6",
   "metadata": {},
   "outputs": [
    {
     "data": {
      "text/plain": [
       "0.9052805304527283"
      ]
     },
     "execution_count": 23,
     "metadata": {},
     "output_type": "execute_result"
    }
   ],
   "source": [
    "import numpy as np\n",
    "#np.shape(np.full((7,6,6),np.zeros((6,6))))\n",
    "np.random.random()\n",
    "torch.rand(1).item()"
   ]
  },
  {
   "cell_type": "code",
   "execution_count": 25,
   "id": "ea9e79c7",
   "metadata": {},
   "outputs": [
    {
     "name": "stdout",
     "output_type": "stream",
     "text": [
      "[7.34653191e-22 3.27368419e-09 4.85577779e-09 1.66262952e-25\n",
      " 4.67082453e-10 1.61774747e-29 1.59238611e-16 2.77080570e-08\n",
      " 2.42055226e-04 1.51383059e-05 2.29721158e-15 9.99741935e-01\n",
      " 3.03777494e-45 2.64655918e-50 3.69588647e-13 8.35528812e-07]\n"
     ]
    }
   ],
   "source": [
    "alpha = torch.full((16,), 0.03)\n",
    "eta = np.random.dirichlet(alpha, 1)[0]\n",
    "print(eta)"
   ]
  },
  {
   "cell_type": "code",
   "execution_count": 26,
   "id": "44926e42",
   "metadata": {},
   "outputs": [
    {
     "name": "stdout",
     "output_type": "stream",
     "text": [
      "tensor([3.6570e-03, 8.5624e-14, 1.6079e-33, 1.1755e-38, 9.6831e-01, 2.0166e-02,\n",
      "        1.1755e-38, 8.8565e-06, 4.2632e-05, 4.4103e-06, 2.8642e-05, 1.3371e-05,\n",
      "        1.0931e-17, 1.9887e-23, 7.7673e-03, 3.8773e-13])\n"
     ]
    }
   ],
   "source": [
    "dirichlet_dist  = torch.distributions.Dirichlet(alpha)\n",
    "eta = dirichlet_dist.sample()\n",
    "print(eta)"
   ]
  },
  {
   "cell_type": "code",
   "execution_count": 54,
   "id": "209fdd34",
   "metadata": {},
   "outputs": [
    {
     "ename": "TypeError",
     "evalue": "'module' object is not callable",
     "output_type": "error",
     "traceback": [
      "\u001b[31m---------------------------------------------------------------------------\u001b[39m",
      "\u001b[31mTypeError\u001b[39m                                 Traceback (most recent call last)",
      "\u001b[36mCell\u001b[39m\u001b[36m \u001b[39m\u001b[32mIn[54]\u001b[39m\u001b[32m, line 2\u001b[39m\n\u001b[32m      1\u001b[39m np.random.choice(\u001b[32m5\u001b[39m, p=[\u001b[32m0.1\u001b[39m,\u001b[32m0.2\u001b[39m,\u001b[32m0.3\u001b[39m,\u001b[32m0.2\u001b[39m,\u001b[32m0.2\u001b[39m])\n\u001b[32m----> \u001b[39m\u001b[32m2\u001b[39m \u001b[43mtorch\u001b[49m\u001b[43m.\u001b[49m\u001b[43mdistributions\u001b[49m\u001b[43m.\u001b[49m\u001b[43mmultinomial\u001b[49m\u001b[43m(\u001b[49m\u001b[43mtorch\u001b[49m\u001b[43m.\u001b[49m\u001b[43mtensor\u001b[49m\u001b[43m(\u001b[49m\u001b[43m[\u001b[49m\u001b[32;43m0.1\u001b[39;49m\u001b[43m,\u001b[49m\u001b[32;43m0.2\u001b[39;49m\u001b[43m,\u001b[49m\u001b[32;43m0.3\u001b[39;49m\u001b[43m,\u001b[49m\u001b[32;43m0.2\u001b[39;49m\u001b[43m,\u001b[49m\u001b[32;43m0.2\u001b[39;49m\u001b[43m]\u001b[49m\u001b[43m)\u001b[49m\u001b[43m,\u001b[49m\u001b[43m \u001b[49m\u001b[43mnum_samples\u001b[49m\u001b[43m=\u001b[49m\u001b[32;43m1\u001b[39;49m\u001b[43m,\u001b[49m\u001b[43m \u001b[49m\u001b[43mreplacement\u001b[49m\u001b[43m=\u001b[49m\u001b[38;5;28;43;01mTrue\u001b[39;49;00m\u001b[43m)\u001b[49m\n",
      "\u001b[31mTypeError\u001b[39m: 'module' object is not callable"
     ]
    }
   ],
   "source": [
    "np.random.choice(5, p=[0.1,0.2,0.3,0.2,0.2])\n",
    "torch.distributions.multinomial(torch.tensor([0.1,0.2,0.3,0.2,0.2]), num_samples=1, replacement=True)"
   ]
  },
  {
   "cell_type": "code",
   "execution_count": 59,
   "id": "4023ae3d",
   "metadata": {},
   "outputs": [
    {
     "ename": "ValueError",
     "evalue": "probabilities do not sum to 1",
     "output_type": "error",
     "traceback": [
      "\u001b[31m---------------------------------------------------------------------------\u001b[39m",
      "\u001b[31mValueError\u001b[39m                                Traceback (most recent call last)",
      "\u001b[36mCell\u001b[39m\u001b[36m \u001b[39m\u001b[32mIn[59]\u001b[39m\u001b[32m, line 4\u001b[39m\n\u001b[32m      2\u001b[39m probs = a / \u001b[38;5;28msum\u001b[39m(a)\n\u001b[32m      3\u001b[39m probs = [\u001b[32m0.3\u001b[39m,\u001b[32m0.2\u001b[39m]\n\u001b[32m----> \u001b[39m\u001b[32m4\u001b[39m \u001b[38;5;28mprint\u001b[39m(\u001b[43mnp\u001b[49m\u001b[43m.\u001b[49m\u001b[43mrandom\u001b[49m\u001b[43m.\u001b[49m\u001b[43mchoice\u001b[49m\u001b[43m(\u001b[49m\u001b[38;5;28;43mlen\u001b[39;49m\u001b[43m(\u001b[49m\u001b[43mprobs\u001b[49m\u001b[43m)\u001b[49m\u001b[43m,\u001b[49m\u001b[43m \u001b[49m\u001b[43mp\u001b[49m\u001b[43m=\u001b[49m\u001b[43mprobs\u001b[49m\u001b[43m)\u001b[49m)\n",
      "\u001b[36mFile \u001b[39m\u001b[32mnumpy\\\\random\\\\mtrand.pyx:994\u001b[39m, in \u001b[36mnumpy.random.mtrand.RandomState.choice\u001b[39m\u001b[34m()\u001b[39m\n",
      "\u001b[31mValueError\u001b[39m: probabilities do not sum to 1"
     ]
    }
   ],
   "source": [
    "a = torch.tensor([  0.,  26.,   0., 280.,   0.,  32.,  70.,  66.,  84.,  71.,   0.,   0., 0.,  77.,  48.,  47.])\n",
    "probs = a / sum(a)\n",
    "probs = [0.3,0.2]\n",
    "print(np.random.choice(len(probs), p=probs))"
   ]
  },
  {
   "cell_type": "code",
   "execution_count": null,
   "id": "2725a8de",
   "metadata": {},
   "outputs": [],
   "source": [
    "dict = {'a':1, 'b':2, 'c':3}\n",
    "print(dict.a)"
   ]
  }
 ],
 "metadata": {
  "kernelspec": {
   "display_name": "Python 3",
   "language": "python",
   "name": "python3"
  },
  "language_info": {
   "codemirror_mode": {
    "name": "ipython",
    "version": 3
   },
   "file_extension": ".py",
   "mimetype": "text/x-python",
   "name": "python",
   "nbconvert_exporter": "python",
   "pygments_lexer": "ipython3",
   "version": "3.11.6"
  }
 },
 "nbformat": 4,
 "nbformat_minor": 5
}
